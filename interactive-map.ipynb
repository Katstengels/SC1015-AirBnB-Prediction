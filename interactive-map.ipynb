{
 "cells": [
  {
   "cell_type": "code",
   "execution_count": null,
   "id": "27e3cec1-5d43-4ced-8a4b-e9c7121d9105",
   "metadata": {
    "scrolled": true
   },
   "outputs": [],
   "source": [
    "import pandas as pd\n",
    "import folium\n",
    "\n",
    "sample=pd.read_csv('newairbnb.csv')\n",
    "\n",
    "x = sample.groupby(['latitude', 'longitude']).size().reset_index()\n",
    "x.columns = ['latitude', 'longitude', 'frequency']\n",
    "\n",
    "latitude = 40.72307\n",
    "longitude = -73.95568\n",
    "map = folium.Map(location=[latitude, longitude]) \n",
    "\n",
    "for lat, lon in zip(x['latitude'], x['longitude']):\n",
    "    folium.CircleMarker([lat, lon], radius=1, \n",
    "                        tooltip='Click to expand',\n",
    "                        color='b', \n",
    "                        fill_color='red', \n",
    "                        fill=True, \n",
    "                        fill_opacity=0.6).add_to(map)\n",
    "\n",
    "sw = sample[['latitude', 'longitude']].min().values.tolist()\n",
    "ne = sample[['latitude', 'longitude']].max().values.tolist()\n",
    "\n",
    "map.fit_bounds([sw, ne])\n",
    "map"
   ]
  }
 ],
 "metadata": {
  "kernelspec": {
   "display_name": "Python 3 (ipykernel)",
   "language": "python",
   "name": "python3"
  },
  "language_info": {
   "codemirror_mode": {
    "name": "ipython",
    "version": 3
   },
   "file_extension": ".py",
   "mimetype": "text/x-python",
   "name": "python",
   "nbconvert_exporter": "python",
   "pygments_lexer": "ipython3",
   "version": "3.11.4"
  }
 },
 "nbformat": 4,
 "nbformat_minor": 5
}
